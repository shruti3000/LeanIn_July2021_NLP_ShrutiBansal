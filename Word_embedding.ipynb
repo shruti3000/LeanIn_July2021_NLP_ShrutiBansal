{
  "nbformat": 4,
  "nbformat_minor": 0,
  "metadata": {
    "colab": {
      "name": "Word embedding.ipynb",
      "provenance": [],
      "collapsed_sections": [],
      "authorship_tag": "ABX9TyNkuWKq4X7TO+0TmasoE0Qv",
      "include_colab_link": true
    },
    "kernelspec": {
      "name": "python3",
      "display_name": "Python 3"
    },
    "language_info": {
      "name": "python"
    }
  },
  "cells": [
    {
      "cell_type": "markdown",
      "metadata": {
        "id": "view-in-github",
        "colab_type": "text"
      },
      "source": [
        "<a href=\"https://colab.research.google.com/github/shruti3000/LeanIn_July2021_NLP_ShrutiBansal/blob/main/Word_embedding.ipynb\" target=\"_parent\"><img src=\"https://colab.research.google.com/assets/colab-badge.svg\" alt=\"Open In Colab\"/></a>"
      ]
    },
    {
      "cell_type": "code",
      "metadata": {
        "colab": {
          "base_uri": "https://localhost:8080/"
        },
        "id": "nDj5uWaieS1d",
        "outputId": "c64a09f5-9692-4fb3-9b00-07b54c418889"
      },
      "source": [
        "!wget http://mattmahoney.net/dc/text8.zip -O text8.gz\n",
        "!gzip -d text8.gz -f"
      ],
      "execution_count": null,
      "outputs": [
        {
          "output_type": "stream",
          "text": [
            "--2021-08-19 03:42:57--  http://mattmahoney.net/dc/text8.zip\n",
            "Resolving mattmahoney.net (mattmahoney.net)... 67.195.197.24\n",
            "Connecting to mattmahoney.net (mattmahoney.net)|67.195.197.24|:80... connected.\n",
            "HTTP request sent, awaiting response... 200 OK\n",
            "Length: 31344016 (30M) [application/zip]\n",
            "Saving to: ‘text8.gz’\n",
            "\n",
            "text8.gz            100%[===================>]  29.89M   875KB/s    in 36s     \n",
            "\n",
            "2021-08-19 03:43:33 (861 KB/s) - ‘text8.gz’ saved [31344016/31344016]\n",
            "\n"
          ],
          "name": "stdout"
        }
      ]
    },
    {
      "cell_type": "code",
      "metadata": {
        "colab": {
          "base_uri": "https://localhost:8080/"
        },
        "id": "cAg2BZ7neona",
        "outputId": "1d38eaab-258e-4aa3-ac99-f2ae6474dc9e"
      },
      "source": [
        "!pip install gensim"
      ],
      "execution_count": null,
      "outputs": [
        {
          "output_type": "stream",
          "text": [
            "Requirement already satisfied: gensim in /usr/local/lib/python3.7/dist-packages (3.6.0)\n",
            "Requirement already satisfied: six>=1.5.0 in /usr/local/lib/python3.7/dist-packages (from gensim) (1.15.0)\n",
            "Requirement already satisfied: smart-open>=1.2.1 in /usr/local/lib/python3.7/dist-packages (from gensim) (5.1.0)\n",
            "Requirement already satisfied: numpy>=1.11.3 in /usr/local/lib/python3.7/dist-packages (from gensim) (1.19.5)\n",
            "Requirement already satisfied: scipy>=0.18.1 in /usr/local/lib/python3.7/dist-packages (from gensim) (1.4.1)\n"
          ],
          "name": "stdout"
        }
      ]
    },
    {
      "cell_type": "code",
      "metadata": {
        "id": "SE-E-owVeq5R"
      },
      "source": [
        "from gensim import utils\n",
        "\n",
        "with open('/content/text8','r') as file:\n",
        "  documents = file.readlines()\n",
        "\n",
        "class MyCorpus(object):\n",
        "    def __iter__(self): \n",
        "        for line in documents:\n",
        "            yield utils.simple_preprocess(line)"
      ],
      "execution_count": null,
      "outputs": []
    },
    {
      "cell_type": "code",
      "metadata": {
        "id": "bxig7F5QewWz"
      },
      "source": [
        "import gensim.models\n",
        "sentences = MyCorpus()\n",
        "skipGramModel = gensim.models.Word2Vec(sentences=sentences,\n",
        "                                       sg = 1,\n",
        "                                       window = 5,\n",
        "                                       size=80,\n",
        "                                       min_count = 3,\n",
        "                                       workers=20,\n",
        "                                       iter = 15)"
      ],
      "execution_count": null,
      "outputs": []
    },
    {
      "cell_type": "code",
      "metadata": {
        "colab": {
          "base_uri": "https://localhost:8080/"
        },
        "id": "RMlUcMFAe0Cq",
        "outputId": "05309a41-a4f1-41e9-d832-b3d3a54ddfc5"
      },
      "source": [
        "len(skipGramModel.wv.vocab.keys())"
      ],
      "execution_count": null,
      "outputs": [
        {
          "output_type": "execute_result",
          "data": {
            "text/plain": [
              "99493"
            ]
          },
          "metadata": {},
          "execution_count": 6
        }
      ]
    },
    {
      "cell_type": "code",
      "metadata": {
        "colab": {
          "base_uri": "https://localhost:8080/"
        },
        "id": "gJxeQAJse3oi",
        "outputId": "1b912dd3-29a3-40a3-e6fd-453e0befa0b8"
      },
      "source": [
        "# get vector for a word\n",
        "skipGramModel.wv.get_vector('queen')"
      ],
      "execution_count": null,
      "outputs": [
        {
          "output_type": "execute_result",
          "data": {
            "text/plain": [
              "array([-0.00297722, -0.00447718,  0.00105918, -0.00437829,  0.00026851,\n",
              "        0.00577033,  0.00163868, -0.00592377,  0.00583645, -0.00616612,\n",
              "       -0.00431799, -0.00070518, -0.00340007,  0.00491118, -0.00339824,\n",
              "       -0.00384144,  0.00211473,  0.00028703,  0.00257189, -0.00293233,\n",
              "       -0.00410592,  0.00447664,  0.00050976,  0.00250521, -0.00122413,\n",
              "       -0.00276162, -0.00392046, -0.00215352,  0.00530216, -0.00547115,\n",
              "        0.00229401, -0.00533843,  0.00230108,  0.00496707,  0.00165017,\n",
              "        0.00505662,  0.0016403 ,  0.00212779,  0.00430541, -0.00548357,\n",
              "        0.00199561,  0.00099275,  0.00601409,  0.00115691,  0.0046825 ,\n",
              "       -0.0039993 , -0.00611238,  0.00243445, -0.00369034,  0.00576742,\n",
              "       -0.00421846, -0.00044551,  0.00147101, -0.00184122, -0.00604035,\n",
              "       -0.00424224,  0.00400501, -0.00277157,  0.00390218, -0.00561942,\n",
              "        0.00256039,  0.00089933, -0.00054033, -0.00468947,  0.00506569,\n",
              "        0.00262492,  0.00270241,  0.00080828,  0.00109172, -0.00340668,\n",
              "       -0.00349151,  0.00502966, -0.00142399, -0.00486979, -0.00463923,\n",
              "       -0.00440241,  0.00425683,  0.00101759,  0.00121876, -0.00069235],\n",
              "      dtype=float32)"
            ]
          },
          "metadata": {},
          "execution_count": 7
        }
      ]
    },
    {
      "cell_type": "code",
      "metadata": {
        "colab": {
          "base_uri": "https://localhost:8080/"
        },
        "id": "-_G3kmC-e6cr",
        "outputId": "f9206fc4-1543-4ffd-9700-967d94b596ab"
      },
      "source": [
        "skipGramModel.wv.most_similar('queen',topn=2)"
      ],
      "execution_count": null,
      "outputs": [
        {
          "output_type": "execute_result",
          "data": {
            "text/plain": [
              "[('buffay', 0.5185804963111877), ('blue', 0.43367812037467957)]"
            ]
          },
          "metadata": {},
          "execution_count": 8
        }
      ]
    },
    {
      "cell_type": "code",
      "metadata": {
        "id": "WvvKx7wqe9FK"
      },
      "source": [
        ""
      ],
      "execution_count": null,
      "outputs": []
    },
    {
      "cell_type": "code",
      "metadata": {
        "id": "K01hKfKle9Pi"
      },
      "source": [
        "#import gensim.downloader as api\n",
        "\n",
        "#model = api.load('word2vec-google-news-300')"
      ],
      "execution_count": 32,
      "outputs": []
    },
    {
      "cell_type": "code",
      "metadata": {
        "id": "bMk5PyU2fB0L"
      },
      "source": [
        "#model = api.load('word2vec-google-news-300')\n",
        "fileObject = open(\"/content/wordsim_similarity_goldstandard.txt\")\n",
        "model = fileObject.read()\n"
      ],
      "execution_count": null,
      "outputs": []
    },
    {
      "cell_type": "code",
      "metadata": {
        "id": "RfMtnI3vfMo6",
        "colab": {
          "base_uri": "https://localhost:8080/"
        },
        "outputId": "0a6bd15f-5703-41ec-d5e7-d96e81e89b72"
      },
      "source": [
        "!pip install sklearn"
      ],
      "execution_count": null,
      "outputs": [
        {
          "output_type": "stream",
          "text": [
            "Requirement already satisfied: sklearn in /usr/local/lib/python3.7/dist-packages (0.0)\n",
            "Requirement already satisfied: scikit-learn in /usr/local/lib/python3.7/dist-packages (from sklearn) (0.22.2.post1)\n",
            "Requirement already satisfied: numpy>=1.11.0 in /usr/local/lib/python3.7/dist-packages (from scikit-learn->sklearn) (1.19.5)\n",
            "Requirement already satisfied: scipy>=0.17.0 in /usr/local/lib/python3.7/dist-packages (from scikit-learn->sklearn) (1.4.1)\n",
            "Requirement already satisfied: joblib>=0.11 in /usr/local/lib/python3.7/dist-packages (from scikit-learn->sklearn) (1.0.1)\n"
          ],
          "name": "stdout"
        }
      ]
    },
    {
      "cell_type": "code",
      "metadata": {
        "id": "JVh_cO-rfSsq",
        "colab": {
          "base_uri": "https://localhost:8080/",
          "height": 363
        },
        "outputId": "a5a566fd-8c6a-47bd-c450-4746bfe4637e"
      },
      "source": [
        "# similarity('mouse','cat',model)\n",
        "# print(\"*\"*60)\n",
        "from sklearn.metrics.pairwise import cosine_similarity\n",
        "\n",
        "def get_word_similarity(word_1,word_2,model):\n",
        "  word_1_vector = model.get_vector(word_1)\n",
        "  word_2_vector = model.get_vector(word_2)\n",
        "\n",
        "  similarity = cosine_similarity(word_1_vector.reshape(1,-1),word_2_vector.reshape(1,-1))[0][0]\n",
        "  return similarity\n",
        "\n",
        "print(\"*\"*60)\n",
        "print('Similarity between {} and {} is {}'.format('easy','easiest',get_word_similarity('easy','easiest',model)))\n",
        "print('Similarity between {} and {} is {}'.format('easy','difficult',get_word_similarity('easy','difficult',model)))\n",
        "print(\"*\"*60)\n",
        "\n",
        "print('Similarity between {} and {} is {}'.format('india','rupee',get_word_similarity('india','rupee',model)))\n",
        "print('Similarity between {} and {} is {}'.format('india','dollar',get_word_similarity('india','dollar',model)))\n",
        "print(\"*\"*60)\n",
        "\n",
        "print('Similarity between {} and {} is {}'.format('mouse','mice',get_word_similarity('mouse','mice',model)))\n",
        "print('Similarity between {} and {} is {}'.format('mouse','cat',get_word_similarity('mouse','cat',model)))\n",
        "print(\"*\"*60)"
      ],
      "execution_count": 33,
      "outputs": [
        {
          "output_type": "stream",
          "text": [
            "************************************************************\n"
          ],
          "name": "stdout"
        },
        {
          "output_type": "error",
          "ename": "AttributeError",
          "evalue": "ignored",
          "traceback": [
            "\u001b[0;31m---------------------------------------------------------------------------\u001b[0m",
            "\u001b[0;31mAttributeError\u001b[0m                            Traceback (most recent call last)",
            "\u001b[0;32m<ipython-input-33-b94472c00be7>\u001b[0m in \u001b[0;36m<module>\u001b[0;34m()\u001b[0m\n\u001b[1;32m     11\u001b[0m \u001b[0;34m\u001b[0m\u001b[0m\n\u001b[1;32m     12\u001b[0m \u001b[0mprint\u001b[0m\u001b[0;34m(\u001b[0m\u001b[0;34m\"*\"\u001b[0m\u001b[0;34m*\u001b[0m\u001b[0;36m60\u001b[0m\u001b[0;34m)\u001b[0m\u001b[0;34m\u001b[0m\u001b[0;34m\u001b[0m\u001b[0m\n\u001b[0;32m---> 13\u001b[0;31m \u001b[0mprint\u001b[0m\u001b[0;34m(\u001b[0m\u001b[0;34m'Similarity between {} and {} is {}'\u001b[0m\u001b[0;34m.\u001b[0m\u001b[0mformat\u001b[0m\u001b[0;34m(\u001b[0m\u001b[0;34m'easy'\u001b[0m\u001b[0;34m,\u001b[0m\u001b[0;34m'easiest'\u001b[0m\u001b[0;34m,\u001b[0m\u001b[0mget_word_similarity\u001b[0m\u001b[0;34m(\u001b[0m\u001b[0;34m'easy'\u001b[0m\u001b[0;34m,\u001b[0m\u001b[0;34m'easiest'\u001b[0m\u001b[0;34m,\u001b[0m\u001b[0mmodel\u001b[0m\u001b[0;34m)\u001b[0m\u001b[0;34m)\u001b[0m\u001b[0;34m)\u001b[0m\u001b[0;34m\u001b[0m\u001b[0;34m\u001b[0m\u001b[0m\n\u001b[0m\u001b[1;32m     14\u001b[0m \u001b[0mprint\u001b[0m\u001b[0;34m(\u001b[0m\u001b[0;34m'Similarity between {} and {} is {}'\u001b[0m\u001b[0;34m.\u001b[0m\u001b[0mformat\u001b[0m\u001b[0;34m(\u001b[0m\u001b[0;34m'easy'\u001b[0m\u001b[0;34m,\u001b[0m\u001b[0;34m'difficult'\u001b[0m\u001b[0;34m,\u001b[0m\u001b[0mget_word_similarity\u001b[0m\u001b[0;34m(\u001b[0m\u001b[0;34m'easy'\u001b[0m\u001b[0;34m,\u001b[0m\u001b[0;34m'difficult'\u001b[0m\u001b[0;34m,\u001b[0m\u001b[0mmodel\u001b[0m\u001b[0;34m)\u001b[0m\u001b[0;34m)\u001b[0m\u001b[0;34m)\u001b[0m\u001b[0;34m\u001b[0m\u001b[0;34m\u001b[0m\u001b[0m\n\u001b[1;32m     15\u001b[0m \u001b[0mprint\u001b[0m\u001b[0;34m(\u001b[0m\u001b[0;34m\"*\"\u001b[0m\u001b[0;34m*\u001b[0m\u001b[0;36m60\u001b[0m\u001b[0;34m)\u001b[0m\u001b[0;34m\u001b[0m\u001b[0;34m\u001b[0m\u001b[0m\n",
            "\u001b[0;32m<ipython-input-33-b94472c00be7>\u001b[0m in \u001b[0;36mget_word_similarity\u001b[0;34m(word_1, word_2, model)\u001b[0m\n\u001b[1;32m      4\u001b[0m \u001b[0;34m\u001b[0m\u001b[0m\n\u001b[1;32m      5\u001b[0m \u001b[0;32mdef\u001b[0m \u001b[0mget_word_similarity\u001b[0m\u001b[0;34m(\u001b[0m\u001b[0mword_1\u001b[0m\u001b[0;34m,\u001b[0m\u001b[0mword_2\u001b[0m\u001b[0;34m,\u001b[0m\u001b[0mmodel\u001b[0m\u001b[0;34m)\u001b[0m\u001b[0;34m:\u001b[0m\u001b[0;34m\u001b[0m\u001b[0;34m\u001b[0m\u001b[0m\n\u001b[0;32m----> 6\u001b[0;31m   \u001b[0mword_1_vector\u001b[0m \u001b[0;34m=\u001b[0m \u001b[0mmodel\u001b[0m\u001b[0;34m.\u001b[0m\u001b[0mget_vector\u001b[0m\u001b[0;34m(\u001b[0m\u001b[0mword_1\u001b[0m\u001b[0;34m)\u001b[0m\u001b[0;34m\u001b[0m\u001b[0;34m\u001b[0m\u001b[0m\n\u001b[0m\u001b[1;32m      7\u001b[0m   \u001b[0mword_2_vector\u001b[0m \u001b[0;34m=\u001b[0m \u001b[0mmodel\u001b[0m\u001b[0;34m.\u001b[0m\u001b[0mget_vector\u001b[0m\u001b[0;34m(\u001b[0m\u001b[0mword_2\u001b[0m\u001b[0;34m)\u001b[0m\u001b[0;34m\u001b[0m\u001b[0;34m\u001b[0m\u001b[0m\n\u001b[1;32m      8\u001b[0m \u001b[0;34m\u001b[0m\u001b[0m\n",
            "\u001b[0;31mAttributeError\u001b[0m: 'str' object has no attribute 'get_vector'"
          ]
        }
      ]
    }
  ]
}