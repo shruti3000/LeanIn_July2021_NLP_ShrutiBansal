{
  "nbformat": 4,
  "nbformat_minor": 0,
  "metadata": {
    "colab": {
      "name": "Text_Cleaning.ipynb",
      "provenance": [],
      "collapsed_sections": [],
      "toc_visible": true,
      "include_colab_link": true
    },
    "kernelspec": {
      "name": "python3",
      "display_name": "Python 3"
    }
  },
  "cells": [
    {
      "cell_type": "markdown",
      "metadata": {
        "id": "view-in-github",
        "colab_type": "text"
      },
      "source": [
        "<a href=\"https://colab.research.google.com/github/shruti3000/LeanIn_July2021_NLP_ShrutiBansal/blob/main/Text_Cleaning.ipynb\" target=\"_parent\"><img src=\"https://colab.research.google.com/assets/colab-badge.svg\" alt=\"Open In Colab\"/></a>"
      ]
    },
    {
      "cell_type": "code",
      "metadata": {
        "colab": {
          "base_uri": "https://localhost:8080/"
        },
        "id": "KAgQjpNCrR8k",
        "outputId": "361f4af0-3bdb-46e9-b8bd-dc41f6208353"
      },
      "source": [
        "import re\n",
        "import matplotlib\n",
        "import numpy as np\n",
        "import matplotlib.pyplot as plt\n",
        "import pandas as pd\n",
        "import string\n",
        "\n",
        "from nltk.corpus import stopwords\n",
        "import nltk\n",
        "import numba\n",
        "from numba import jit\n",
        "\n",
        "nltk.download('stopwords')\n",
        "nltk.download('punkt')\n",
        "nltk.download('averaged_perceptron_tagger')"
      ],
      "execution_count": 1,
      "outputs": [
        {
          "output_type": "stream",
          "text": [
            "[nltk_data] Downloading package stopwords to /root/nltk_data...\n",
            "[nltk_data]   Unzipping corpora/stopwords.zip.\n",
            "[nltk_data] Downloading package punkt to /root/nltk_data...\n",
            "[nltk_data]   Unzipping tokenizers/punkt.zip.\n",
            "[nltk_data] Downloading package averaged_perceptron_tagger to\n",
            "[nltk_data]     /root/nltk_data...\n",
            "[nltk_data]   Unzipping taggers/averaged_perceptron_tagger.zip.\n"
          ],
          "name": "stdout"
        },
        {
          "output_type": "execute_result",
          "data": {
            "text/plain": [
              "True"
            ]
          },
          "metadata": {
            "tags": []
          },
          "execution_count": 1
        }
      ]
    },
    {
      "cell_type": "code",
      "metadata": {
        "colab": {
          "base_uri": "https://localhost:8080/"
        },
        "id": "bhj5eQGqrs5R",
        "outputId": "ea7eb4b3-5561-4e45-9c07-904d2830d51a"
      },
      "source": [
        "!unzip english_dataset.zip\n",
        "!rm -rf english_dataset.zip"
      ],
      "execution_count": 2,
      "outputs": [
        {
          "output_type": "stream",
          "text": [
            "Archive:  english_dataset.zip\n",
            "   creating: english_dataset/\n",
            "  inflating: __MACOSX/._english_dataset  \n",
            "  inflating: english_dataset/english_dataset.tsv  \n",
            "  inflating: __MACOSX/english_dataset/._english_dataset.tsv  \n",
            "  inflating: english_dataset/hasoc2019_en_test-2919.tsv  \n",
            "  inflating: __MACOSX/english_dataset/._hasoc2019_en_test-2919.tsv  \n"
          ],
          "name": "stdout"
        }
      ]
    },
    {
      "cell_type": "code",
      "metadata": {
        "id": "JfhI6aXE1PAV",
        "colab": {
          "base_uri": "https://localhost:8080/",
          "height": 357
        },
        "outputId": "02e67564-0be5-40eb-c613-3b15b979c911"
      },
      "source": [
        "ddf=pd.read_csv(\"/content/english_dataset/english_dataset.tsv\", delimiter=\"\\t\")\n",
        "ddf.head(10)"
      ],
      "execution_count": 3,
      "outputs": [
        {
          "output_type": "execute_result",
          "data": {
            "text/html": [
              "<div>\n",
              "<style scoped>\n",
              "    .dataframe tbody tr th:only-of-type {\n",
              "        vertical-align: middle;\n",
              "    }\n",
              "\n",
              "    .dataframe tbody tr th {\n",
              "        vertical-align: top;\n",
              "    }\n",
              "\n",
              "    .dataframe thead th {\n",
              "        text-align: right;\n",
              "    }\n",
              "</style>\n",
              "<table border=\"1\" class=\"dataframe\">\n",
              "  <thead>\n",
              "    <tr style=\"text-align: right;\">\n",
              "      <th></th>\n",
              "      <th>text_id</th>\n",
              "      <th>text</th>\n",
              "      <th>task_1</th>\n",
              "      <th>task_2</th>\n",
              "      <th>task_3</th>\n",
              "    </tr>\n",
              "  </thead>\n",
              "  <tbody>\n",
              "    <tr>\n",
              "      <th>0</th>\n",
              "      <td>hasoc_en_1</td>\n",
              "      <td>#DhoniKeepsTheGlove | WATCH: Sports Minister K...</td>\n",
              "      <td>NOT</td>\n",
              "      <td>NONE</td>\n",
              "      <td>NONE</td>\n",
              "    </tr>\n",
              "    <tr>\n",
              "      <th>1</th>\n",
              "      <td>hasoc_en_2</td>\n",
              "      <td>@politico No. We should remember very clearly ...</td>\n",
              "      <td>HOF</td>\n",
              "      <td>HATE</td>\n",
              "      <td>TIN</td>\n",
              "    </tr>\n",
              "    <tr>\n",
              "      <th>2</th>\n",
              "      <td>hasoc_en_3</td>\n",
              "      <td>@cricketworldcup Guess who would be the winner...</td>\n",
              "      <td>NOT</td>\n",
              "      <td>NONE</td>\n",
              "      <td>NONE</td>\n",
              "    </tr>\n",
              "    <tr>\n",
              "      <th>3</th>\n",
              "      <td>hasoc_en_4</td>\n",
              "      <td>Corbyn is too politically intellectual for #Bo...</td>\n",
              "      <td>NOT</td>\n",
              "      <td>NONE</td>\n",
              "      <td>NONE</td>\n",
              "    </tr>\n",
              "    <tr>\n",
              "      <th>4</th>\n",
              "      <td>hasoc_en_5</td>\n",
              "      <td>All the best to #TeamIndia for another swimmin...</td>\n",
              "      <td>NOT</td>\n",
              "      <td>NONE</td>\n",
              "      <td>NONE</td>\n",
              "    </tr>\n",
              "    <tr>\n",
              "      <th>5</th>\n",
              "      <td>hasoc_en_6</td>\n",
              "      <td>@kellymiller513 @TheRealOJ32 I hope you rememb...</td>\n",
              "      <td>NOT</td>\n",
              "      <td>NONE</td>\n",
              "      <td>NONE</td>\n",
              "    </tr>\n",
              "    <tr>\n",
              "      <th>6</th>\n",
              "      <td>hasoc_en_7</td>\n",
              "      <td>@ICC Latest design of #WC2019 trophy. #CWC2019...</td>\n",
              "      <td>NOT</td>\n",
              "      <td>NONE</td>\n",
              "      <td>NONE</td>\n",
              "    </tr>\n",
              "    <tr>\n",
              "      <th>7</th>\n",
              "      <td>hasoc_en_8</td>\n",
              "      <td>#ADOS #trendingnow #blacklivesmatter #justice ...</td>\n",
              "      <td>HOF</td>\n",
              "      <td>PRFN</td>\n",
              "      <td>TIN</td>\n",
              "    </tr>\n",
              "    <tr>\n",
              "      <th>8</th>\n",
              "      <td>hasoc_en_9</td>\n",
              "      <td>Thanks for your support! Wow 600k. Graffiti ha...</td>\n",
              "      <td>NOT</td>\n",
              "      <td>NONE</td>\n",
              "      <td>NONE</td>\n",
              "    </tr>\n",
              "    <tr>\n",
              "      <th>9</th>\n",
              "      <td>hasoc_en_10</td>\n",
              "      <td>By wearing the #BalidaanBadge over his gloves ...</td>\n",
              "      <td>NOT</td>\n",
              "      <td>NONE</td>\n",
              "      <td>NONE</td>\n",
              "    </tr>\n",
              "  </tbody>\n",
              "</table>\n",
              "</div>"
            ],
            "text/plain": [
              "       text_id                                               text  ... task_2 task_3\n",
              "0   hasoc_en_1  #DhoniKeepsTheGlove | WATCH: Sports Minister K...  ...   NONE   NONE\n",
              "1   hasoc_en_2  @politico No. We should remember very clearly ...  ...   HATE    TIN\n",
              "2   hasoc_en_3  @cricketworldcup Guess who would be the winner...  ...   NONE   NONE\n",
              "3   hasoc_en_4  Corbyn is too politically intellectual for #Bo...  ...   NONE   NONE\n",
              "4   hasoc_en_5  All the best to #TeamIndia for another swimmin...  ...   NONE   NONE\n",
              "5   hasoc_en_6  @kellymiller513 @TheRealOJ32 I hope you rememb...  ...   NONE   NONE\n",
              "6   hasoc_en_7  @ICC Latest design of #WC2019 trophy. #CWC2019...  ...   NONE   NONE\n",
              "7   hasoc_en_8  #ADOS #trendingnow #blacklivesmatter #justice ...  ...   PRFN    TIN\n",
              "8   hasoc_en_9  Thanks for your support! Wow 600k. Graffiti ha...  ...   NONE   NONE\n",
              "9  hasoc_en_10  By wearing the #BalidaanBadge over his gloves ...  ...   NONE   NONE\n",
              "\n",
              "[10 rows x 5 columns]"
            ]
          },
          "metadata": {
            "tags": []
          },
          "execution_count": 3
        }
      ]
    },
    {
      "cell_type": "markdown",
      "metadata": {
        "id": "0G07jbEa0rvY"
      },
      "source": [
        "# **Convert text Column to uppercase**"
      ]
    },
    {
      "cell_type": "code",
      "metadata": {
        "colab": {
          "base_uri": "https://localhost:8080/"
        },
        "id": "YPTm3YnfxXVS",
        "outputId": "9fb7102e-a685-40b9-9e78-ecd6ceaa1c99"
      },
      "source": [
        "ddf['text']=ddf['text'].str.upper()\n",
        "ddf['text'].head(20)"
      ],
      "execution_count": 5,
      "outputs": [
        {
          "output_type": "execute_result",
          "data": {
            "text/plain": [
              "0     #DHONIKEEPSTHEGLOVE | WATCH: SPORTS MINISTER K...\n",
              "1     @POLITICO NO. WE SHOULD REMEMBER VERY CLEARLY ...\n",
              "2     @CRICKETWORLDCUP GUESS WHO WOULD BE THE WINNER...\n",
              "3     CORBYN IS TOO POLITICALLY INTELLECTUAL FOR #BO...\n",
              "4     ALL THE BEST TO #TEAMINDIA FOR ANOTHER SWIMMIN...\n",
              "5     @KELLYMILLER513 @THEREALOJ32 I HOPE YOU REMEMB...\n",
              "6     @ICC LATEST DESIGN OF #WC2019 TROPHY. #CWC2019...\n",
              "7     #ADOS #TRENDINGNOW #BLACKLIVESMATTER #JUSTICE ...\n",
              "8     THANKS FOR YOUR SUPPORT! WOW 600K. GRAFFITI HA...\n",
              "9     BY WEARING THE #BALIDAANBADGE OVER HIS GLOVES ...\n",
              "10    MAHENDRA SINGH DHONI'S LOVE FOR THE NATION, AR...\n",
              "11    I DON’T KNOW HOW MUCH MORE I CAN TAKE! 45 IS A...\n",
              "12    #SHAMEONICC@ICC WINNER TEAM-RAIN  ICC RUN UP T...\n",
              "13    @NARENDRAMODI  @PMOINDIA_NAMO  @NARENDRAMODI  ...\n",
              "14    ICC DENIES REQUEST FROM BCCI TO ALLOW MSD WEAR...\n",
              "15    GOOD WORK @ICC KEEP GOING JUST DESTROY THE WHO...\n",
              "16    WOW, YOU'RE FULL OF IT @MATTHANCOCK   #BORISJO...\n",
              "17    ALL INDIAN SPECTATORS SHD HV #BALIDANBADGE IN ...\n",
              "18    @ICC  @BCCI  WHAT ABOUT VIRAT KHOLI TATTOOS 😂😂...\n",
              "19    WHICH IS MORE IMPORTANT?  #INDIAWITHDHONI   #D...\n",
              "Name: text, dtype: object"
            ]
          },
          "metadata": {
            "tags": []
          },
          "execution_count": 5
        }
      ]
    },
    {
      "cell_type": "markdown",
      "metadata": {
        "id": "KH1iWLZt1Q0g"
      },
      "source": [
        "# **Convert text Column to Lowercase**"
      ]
    },
    {
      "cell_type": "code",
      "metadata": {
        "colab": {
          "base_uri": "https://localhost:8080/"
        },
        "id": "DM_MiNoIxZ3R",
        "outputId": "40eb6f1d-d00a-4ab1-fda5-1e7594705034"
      },
      "source": [
        "ddf['text']=ddf['text'].str.lower()\n",
        "ddf['text'].head(20)"
      ],
      "execution_count": 6,
      "outputs": [
        {
          "output_type": "execute_result",
          "data": {
            "text/plain": [
              "0     #dhonikeepstheglove | watch: sports minister k...\n",
              "1     @politico no. we should remember very clearly ...\n",
              "2     @cricketworldcup guess who would be the winner...\n",
              "3     corbyn is too politically intellectual for #bo...\n",
              "4     all the best to #teamindia for another swimmin...\n",
              "5     @kellymiller513 @therealoj32 i hope you rememb...\n",
              "6     @icc latest design of #wc2019 trophy. #cwc2019...\n",
              "7     #ados #trendingnow #blacklivesmatter #justice ...\n",
              "8     thanks for your support! wow 600k. graffiti ha...\n",
              "9     by wearing the #balidaanbadge over his gloves ...\n",
              "10    mahendra singh dhoni's love for the nation, ar...\n",
              "11    i don’t know how much more i can take! 45 is a...\n",
              "12    #shameonicc@icc winner team-rain  icc run up t...\n",
              "13    @narendramodi  @pmoindia_namo  @narendramodi  ...\n",
              "14    icc denies request from bcci to allow msd wear...\n",
              "15    good work @icc keep going just destroy the who...\n",
              "16    wow, you're full of it @matthancock   #borisjo...\n",
              "17    all indian spectators shd hv #balidanbadge in ...\n",
              "18    @icc  @bcci  what about virat kholi tattoos 😂😂...\n",
              "19    which is more important?  #indiawithdhoni   #d...\n",
              "Name: text, dtype: object"
            ]
          },
          "metadata": {
            "tags": []
          },
          "execution_count": 6
        }
      ]
    },
    {
      "cell_type": "markdown",
      "metadata": {
        "id": "m1WeSuNA1Wxy"
      },
      "source": [
        "# **Remove Numbers from text Column**"
      ]
    },
    {
      "cell_type": "code",
      "metadata": {
        "colab": {
          "base_uri": "https://localhost:8080/"
        },
        "id": "DP7AsgPfxcMf",
        "outputId": "3b3768fd-0e62-4b85-bc3a-0636ae5f82c2"
      },
      "source": [
        "ddf['text'] = ddf['text'].str.replace('\\d+', '')\n",
        "ddf['text'].head(20)"
      ],
      "execution_count": 7,
      "outputs": [
        {
          "output_type": "execute_result",
          "data": {
            "text/plain": [
              "0     #dhonikeepstheglove | watch: sports minister k...\n",
              "1     @politico no. we should remember very clearly ...\n",
              "2     @cricketworldcup guess who would be the winner...\n",
              "3     corbyn is too politically intellectual for #bo...\n",
              "4     all the best to #teamindia for another swimmin...\n",
              "5     @kellymiller @therealoj i hope you remembered ...\n",
              "6     @icc latest design of #wc trophy. #cwc #cwc #s...\n",
              "7     #ados #trendingnow #blacklivesmatter #justice ...\n",
              "8     thanks for your support! wow k. graffiti has a...\n",
              "9     by wearing the #balidaanbadge over his gloves ...\n",
              "10    mahendra singh dhoni's love for the nation, ar...\n",
              "11    i don’t know how much more i can take!  is a c...\n",
              "12    #shameonicc@icc winner team-rain  icc run up t...\n",
              "13    @narendramodi  @pmoindia_namo  @narendramodi  ...\n",
              "14    icc denies request from bcci to allow msd wear...\n",
              "15    good work @icc keep going just destroy the who...\n",
              "16    wow, you're full of it @matthancock   #borisjo...\n",
              "17    all indian spectators shd hv #balidanbadge in ...\n",
              "18    @icc  @bcci  what about virat kholi tattoos 😂😂...\n",
              "19    which is more important?  #indiawithdhoni   #d...\n",
              "Name: text, dtype: object"
            ]
          },
          "metadata": {
            "tags": []
          },
          "execution_count": 7
        }
      ]
    },
    {
      "cell_type": "markdown",
      "metadata": {
        "id": "QnvWsJV31eKB"
      },
      "source": [
        "# **Remove mentions from text Column**"
      ]
    },
    {
      "cell_type": "code",
      "metadata": {
        "colab": {
          "base_uri": "https://localhost:8080/"
        },
        "id": "Ywf_L5gzxenq",
        "outputId": "a0281488-f9e4-4ce8-98b3-a7b77d73f1cc"
      },
      "source": [
        "ddf['text'] = ddf['text'].str.replace('@\\S+', '')\n",
        "ddf['text'].head(20)"
      ],
      "execution_count": 8,
      "outputs": [
        {
          "output_type": "execute_result",
          "data": {
            "text/plain": [
              "0     #dhonikeepstheglove | watch: sports minister k...\n",
              "1      no. we should remember very clearly that #ind...\n",
              "2      guess who would be the winner of this #cwc?  ...\n",
              "3     corbyn is too politically intellectual for #bo...\n",
              "4     all the best to #teamindia for another swimmin...\n",
              "5       i hope you remembered to wipe the blood off ...\n",
              "6      latest design of #wc trophy. #cwc #cwc #shame...\n",
              "7     #ados #trendingnow #blacklivesmatter #justice ...\n",
              "8     thanks for your support! wow k. graffiti has a...\n",
              "9     by wearing the #balidaanbadge over his gloves ...\n",
              "10    mahendra singh dhoni's love for the nation, ar...\n",
              "11    i don’t know how much more i can take!  is a c...\n",
              "12    #shameonicc winner team-rain  icc run up team-...\n",
              "13                grevious assault on jr doctors in ...\n",
              "14    icc denies request from bcci to allow msd wear...\n",
              "15    good work  keep going just destroy the whole f...\n",
              "16    wow, you're full of it    #borisjohnsonshouldn...\n",
              "17    all indian spectators shd hv #balidanbadge in ...\n",
              "18        what about virat kholi tattoos 😂😂    #dhon...\n",
              "19    which is more important?  #indiawithdhoni   #d...\n",
              "Name: text, dtype: object"
            ]
          },
          "metadata": {
            "tags": []
          },
          "execution_count": 8
        }
      ]
    },
    {
      "cell_type": "markdown",
      "metadata": {
        "id": "TEFALz9Z1sXB"
      },
      "source": [
        "# **Remove URLs from text Column**"
      ]
    },
    {
      "cell_type": "code",
      "metadata": {
        "colab": {
          "base_uri": "https://localhost:8080/"
        },
        "id": "yctgbP7cxjtQ",
        "outputId": "2adb4281-ede1-4456-ebcc-4ecf50365296"
      },
      "source": [
        "ddf['text'] = ddf['text'].str.replace('https*\\S+', '')\n",
        "ddf['text'].head(30)"
      ],
      "execution_count": 9,
      "outputs": [
        {
          "output_type": "execute_result",
          "data": {
            "text/plain": [
              "0     #dhonikeepstheglove | watch: sports minister k...\n",
              "1      no. we should remember very clearly that #ind...\n",
              "2      guess who would be the winner of this #cwc?  ...\n",
              "3     corbyn is too politically intellectual for #bo...\n",
              "4     all the best to #teamindia for another swimmin...\n",
              "5       i hope you remembered to wipe the blood off ...\n",
              "6      latest design of #wc trophy. #cwc #cwc #shame...\n",
              "7     #ados #trendingnow #blacklivesmatter #justice ...\n",
              "8     thanks for your support! wow k. graffiti has a...\n",
              "9     by wearing the #balidaanbadge over his gloves ...\n",
              "10    mahendra singh dhoni's love for the nation, ar...\n",
              "11    i don’t know how much more i can take!  is a c...\n",
              "12    #shameonicc winner team-rain  icc run up team-...\n",
              "13                grevious assault on jr doctors in ...\n",
              "14    icc denies request from bcci to allow msd wear...\n",
              "15    good work  keep going just destroy the whole f...\n",
              "16    wow, you're full of it    #borisjohnsonshouldn...\n",
              "17    all indian spectators shd hv #balidanbadge in ...\n",
              "18        what about virat kholi tattoos 😂😂    #dhon...\n",
              "19    which is more important?  #indiawithdhoni   #d...\n",
              "20                           is gonna crash. #douchebag\n",
              "21    harbor n bay mens boxer short pack of  @ rs.  ...\n",
              "22    icc turns down #bcci's request to allow  to co...\n",
              "23    #shameonicc  . icc on dhoni's gloves          ...\n",
              "24    senior #doctors of #rgkar greeted with applaus...\n",
              "25    empty podiums make too much noise     #torylea...\n",
              "26          #shameonicc #iccworldcup world cup reality \n",
              "27    disgusting! and they don’t change their cultur...\n",
              "28    goqii vital - colour display blood pressure mo...\n",
              "29     doctors have already resigned in #bengal.    ...\n",
              "Name: text, dtype: object"
            ]
          },
          "metadata": {
            "tags": []
          },
          "execution_count": 9
        }
      ]
    },
    {
      "cell_type": "markdown",
      "metadata": {
        "id": "xWG73ikU1yOB"
      },
      "source": [
        "# **Remove Hashtags from text Column**"
      ]
    },
    {
      "cell_type": "code",
      "metadata": {
        "colab": {
          "base_uri": "https://localhost:8080/"
        },
        "id": "gO3tJdBRxkjH",
        "outputId": "8c560ba1-074e-41a1-84bc-9262aa6bc323"
      },
      "source": [
        "ddf['text'] = ddf['text'].str.replace('#\\S+', '')\n",
        "ddf['text'].head(40)"
      ],
      "execution_count": 10,
      "outputs": [
        {
          "output_type": "execute_result",
          "data": {
            "text/plain": [
              "0      | watch: sports minister kiren rijiju issues ...\n",
              "1      no. we should remember very clearly that  jus...\n",
              "2      guess who would be the winner of this      te...\n",
              "3     corbyn is too politically intellectual for    ...\n",
              "4     all the best to  for another swimming competit...\n",
              "5       i hope you remembered to wipe the blood off ...\n",
              "6                         latest design of  trophy.    \n",
              "7           ‘central park five’ prosecutor elizabeth...\n",
              "8     thanks for your support! wow k. graffiti has a...\n",
              "9     by wearing the  over his gloves  has shown his...\n",
              "10    mahendra singh dhoni's love for the nation, ar...\n",
              "11    i don’t know how much more i can take!  is a c...\n",
              "12     winner team-rain  icc run up team-rain  icc m...\n",
              "13                grevious assault on jr doctors in ...\n",
              "14    icc denies request from bcci to allow msd wear...\n",
              "15    good work  keep going just destroy the whole f...\n",
              "16                      wow, you're full of it         \n",
              "17         all indian spectators shd hv  in ground,    \n",
              "18               what about virat kholi tattoos 😂😂     \n",
              "19                       which is more important?      \n",
              "20                                     is gonna crash. \n",
              "21    harbor n bay mens boxer short pack of  @ rs.  ...\n",
              "22    icc turns down  request to allow  to continue ...\n",
              "23      . icc on dhoni's gloves                    v...\n",
              "24    senior  of  greeted with applause &amp; ovatio...\n",
              "25        empty podiums make too much noise            \n",
              "26                                   world cup reality \n",
              "27    disgusting! and they don’t change their cultur...\n",
              "28    goqii vital - colour display blood pressure mo...\n",
              "29     doctors have already resigned in     nrs   ss...\n",
              "30    hi everyone, i'm in kolkata and just thought i...\n",
              "31       worst ever world cup arrangement in cricket...\n",
              "32     fuck you and go fuck yourself you piece of sh...\n",
              "33                    donald trump lies.     happy  !  \n",
              "34     of all the retired nfl players, why is it tha...\n",
              "35    the telegraph´s use of the word ´crown´ with r...\n",
              "36     | no doctor wishes to stop emergency services...\n",
              "37     no worries  because there will be on only one...\n",
              "38    will  score a  again today?  predict @  and wi...\n",
              "39    don't support a country who has concentration ...\n",
              "Name: text, dtype: object"
            ]
          },
          "metadata": {
            "tags": []
          },
          "execution_count": 10
        }
      ]
    },
    {
      "cell_type": "markdown",
      "metadata": {
        "id": "F35gUXQe12u8"
      },
      "source": [
        "Remove Punctuation from text Column"
      ]
    },
    {
      "cell_type": "markdown",
      "metadata": {
        "id": "DJBlmsPf14IG"
      },
      "source": [
        "# **Remove Punctuation from text Column**"
      ]
    },
    {
      "cell_type": "code",
      "metadata": {
        "colab": {
          "base_uri": "https://localhost:8080/"
        },
        "id": "2TWTSx1Rxm26",
        "outputId": "0184a2ec-3ba6-4213-ec10-5e04644fe983"
      },
      "source": [
        "ddf['text'] = ddf['text'].str.replace('[%s]' % re.escape(string.punctuation), '')\n",
        "ddf['text'].head(20)"
      ],
      "execution_count": 11,
      "outputs": [
        {
          "output_type": "execute_result",
          "data": {
            "text/plain": [
              "0       watch sports minister kiren rijiju issues st...\n",
              "1      no we should remember very clearly that  just...\n",
              "2      guess who would be the winner of this      te...\n",
              "3     corbyn is too politically intellectual for    ...\n",
              "4     all the best to  for another swimming competit...\n",
              "5       i hope you remembered to wipe the blood off ...\n",
              "6                          latest design of  trophy    \n",
              "7           ‘central park five’ prosecutor elizabeth...\n",
              "8     thanks for your support wow k graffiti has a m...\n",
              "9     by wearing the  over his gloves  has shown his...\n",
              "10    mahendra singh dhonis love for the nation arme...\n",
              "11    i don’t know how much more i can take  is a co...\n",
              "12     winner teamrain  icc run up teamrain  icc man...\n",
              "13                grevious assault on jr doctors in ...\n",
              "14    icc denies request from bcci to allow msd wear...\n",
              "15    good work  keep going just destroy the whole f...\n",
              "16                        wow youre full of it         \n",
              "17          all indian spectators shd hv  in ground    \n",
              "18               what about virat kholi tattoos 😂😂     \n",
              "19                        which is more important      \n",
              "Name: text, dtype: object"
            ]
          },
          "metadata": {
            "tags": []
          },
          "execution_count": 11
        }
      ]
    },
    {
      "cell_type": "markdown",
      "metadata": {
        "id": "yFtMwNLF2F9i"
      },
      "source": [
        "# **Remove Whitespaces from text Column**"
      ]
    },
    {
      "cell_type": "code",
      "metadata": {
        "colab": {
          "base_uri": "https://localhost:8080/"
        },
        "id": "OOeVzAZCxrM9",
        "outputId": "cfc8cb91-a57b-45c3-e5f3-bc3778ed558d"
      },
      "source": [
        "ddf['text'] = ddf['text'].str.replace('\\s{2,}', '')\n",
        "ddf['text'].head(40)"
      ],
      "execution_count": 12,
      "outputs": [
        {
          "output_type": "execute_result",
          "data": {
            "text/plain": [
              "0     watch sports minister kiren rijiju issues stat...\n",
              "1      no we should remember very clearly thatjust a...\n",
              "2      guess who would be the winner of thisteam who...\n",
              "3     corbyn is too politically intellectual forcant...\n",
              "4     all the best tofor another swimming competitio...\n",
              "5     i hope you remembered to wipe the blood off of...\n",
              "6                                latest design oftrophy\n",
              "7     ‘central park five’ prosecutor elizabeth leder...\n",
              "8     thanks for your support wow k graffiti has a m...\n",
              "9     by wearing theover his gloveshas shown his lov...\n",
              "10    mahendra singh dhonis love for the nation arme...\n",
              "11    i don’t know how much more i can takeis a comp...\n",
              "12     winner teamrainicc run up teamrainicc man of ...\n",
              "13    grevious assault on jr doctors in all medical ...\n",
              "14    icc denies request from bcci to allow msd wear...\n",
              "15    good workkeep going just destroy the whole fuc...\n",
              "16                                 wow youre full of it\n",
              "17                all indian spectators shd hvin ground\n",
              "18                    what about virat kholi tattoos 😂😂\n",
              "19                              which is more important\n",
              "20                                      is gonna crash \n",
              "21              harbor n bay mens boxer short pack ofrs\n",
              "22    icc turns downrequest to allowto continue wear...\n",
              "23    icc on dhonis glovesvsicc planning the world cup \n",
              "24    seniorofgreeted with applause amp ovation byaf...\n",
              "25                    empty podiums make too much noise\n",
              "26                                   world cup reality \n",
              "27    disgusting and they don’t change their culture...\n",
              "28    goqii vitalcolour display blood pressure monit...\n",
              "29     doctors have already resigned innrssskmnation...\n",
              "30    hi everyone im in kolkata and just thought id ...\n",
              "31    worst ever world cup arrangement in cricket hi...\n",
              "32     fuck you and go fuck yourself you piece of sh...\n",
              "33                               donald trump lieshappy\n",
              "34     of all the retired nfl players why is it that...\n",
              "35    the telegraph´s use of the word ´crown´ with r...\n",
              "36    no doctor wishes to stop emergency services dr...\n",
              "37     no worriesbecause there will be on only one w...\n",
              "38          willscore aagain todaypredictand win prizes\n",
              "39    dont support a country who has concentration c...\n",
              "Name: text, dtype: object"
            ]
          },
          "metadata": {
            "tags": []
          },
          "execution_count": 12
        }
      ]
    },
    {
      "cell_type": "markdown",
      "metadata": {
        "id": "waffThqI2LON"
      },
      "source": [
        "# **Remove Stopwords from text Column**"
      ]
    },
    {
      "cell_type": "code",
      "metadata": {
        "colab": {
          "base_uri": "https://localhost:8080/"
        },
        "id": "AJrUa5jTxtz3",
        "outputId": "af8f5902-7b47-4035-850a-2ec2a27bb2a6"
      },
      "source": [
        "stop_words=stopwords.words(\"english\") \n",
        "from nltk.tokenize import word_tokenize\n",
        "ddf['text'] = ddf['text'].apply(word_tokenize)\n",
        "ddf['text'] = ddf['text'].apply(lambda x: [item for item in x if item not in stop_words])\n",
        "ddf['text'].head(20)"
      ],
      "execution_count": 13,
      "outputs": [
        {
          "output_type": "execute_result",
          "data": {
            "text/plain": [
              "0     [watch, sports, minister, kiren, rijiju, issue...\n",
              "1      [remember, clearly, thatjust, admitted, treason]\n",
              "2     [guess, would, winner, thisteam, gets, maximum...\n",
              "3     [corbyn, politically, intellectual, forcant, w...\n",
              "4     [best, tofor, another, swimming, competition, ...\n",
              "5           [hope, remembered, wipe, blood, pic, taken]\n",
              "6                            [latest, design, oftrophy]\n",
              "7     [‘, central, park, five, ’, prosecutor, elizab...\n",
              "8     [thanks, support, wow, k, graffiti, massive, i...\n",
              "9     [wearing, theover, gloveshas, shown, love, amp...\n",
              "10    [mahendra, singh, dhonis, love, nation, armed,...\n",
              "11            [’, know, much, takeis, compulsive, liar]\n",
              "12    [winner, teamrainicc, run, teamrainicc, man, m...\n",
              "13    [grevious, assault, jr, doctors, medical, coll...\n",
              "14    [icc, denies, request, bcci, allow, msd, wear,...\n",
              "15    [good, workkeep, going, destroy, whole, fuckin...\n",
              "16                                   [wow, youre, full]\n",
              "17              [indian, spectators, shd, hvin, ground]\n",
              "18                          [virat, kholi, tattoos, 😂😂]\n",
              "19                                          [important]\n",
              "Name: text, dtype: object"
            ]
          },
          "metadata": {
            "tags": []
          },
          "execution_count": 13
        }
      ]
    }
  ]
}
